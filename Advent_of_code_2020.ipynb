{
 "cells": [
  {
   "cell_type": "markdown",
   "metadata": {},
   "source": [
    "# Advent of Code"
   ]
  },
  {
   "cell_type": "code",
   "execution_count": 2,
   "metadata": {},
   "outputs": [],
   "source": [
    "import os\n",
    "import pandas as pd"
   ]
  },
  {
   "cell_type": "code",
   "execution_count": 47,
   "metadata": {},
   "outputs": [
    {
     "data": {
      "text/plain": [
       "<module 'ntpath' from 'C:\\\\Users\\\\danny\\\\anaconda3\\\\lib\\\\ntpath.py'>"
      ]
     },
     "execution_count": 47,
     "metadata": {},
     "output_type": "execute_result"
    }
   ],
   "source": [
    "os.path"
   ]
  },
  {
   "cell_type": "markdown",
   "metadata": {},
   "source": [
    "## Day One"
   ]
  },
  {
   "cell_type": "code",
   "execution_count": 8,
   "metadata": {},
   "outputs": [],
   "source": [
    "data = pd.read_csv('input.txt', header = None)\n",
    "data.columns = ['nums']"
   ]
  },
  {
   "cell_type": "code",
   "execution_count": 46,
   "metadata": {},
   "outputs": [
    {
     "name": "stdout",
     "output_type": "stream",
     "text": [
      "918339\n"
     ]
    }
   ],
   "source": [
    "for x, y in data.iterrows():\n",
    "    for z in range(x, len(data.nums)):\n",
    "        if data.nums[x] + data.nums[z] == 2020:\n",
    "            print(data.nums[x]*data.nums[z])"
   ]
  },
  {
   "cell_type": "code",
   "execution_count": 44,
   "metadata": {},
   "outputs": [
    {
     "name": "stdout",
     "output_type": "stream",
     "text": [
      "23869440\n"
     ]
    }
   ],
   "source": [
    "for x, y in data.iterrows():\n",
    "    for d in range (x+1, len(data.nums)):\n",
    "        for z in range(x + 2, len(data.nums)):\n",
    "            if data.nums[d] + data.nums[x] + data.nums[z] == 2020:\n",
    "                print(data.nums[x]*data.nums[z]*data.nums[d])\n"
   ]
  },
  {
   "cell_type": "markdown",
   "metadata": {},
   "source": [
    "## Day Two"
   ]
  },
  {
   "cell_type": "code",
   "execution_count": 72,
   "metadata": {},
   "outputs": [],
   "source": [
    "data = pd.read_csv('input2.txt', header = None, sep=\" \")\n",
    "data.columns = ['policy','code', 'password']"
   ]
  },
  {
   "cell_type": "code",
   "execution_count": 113,
   "metadata": {},
   "outputs": [
    {
     "data": {
      "text/plain": [
       "607"
      ]
     },
     "execution_count": 113,
     "metadata": {},
     "output_type": "execute_result"
    }
   ],
   "source": [
    "check_count = 0\n",
    "for x, y in data.iterrows():\n",
    "    policy_range = [int(i) for i in data.policy.str.split('-')[x]]\n",
    "    code = data.code.str.slice(stop=1)[x]\n",
    "    if (data.password[x].count(code) >= policy_range[0]) & (data.password[x].count(code) <= policy_range[1]):\n",
    "        check_count +=1\n",
    "        \n",
    "check_count"
   ]
  },
  {
   "cell_type": "code",
   "execution_count": 124,
   "metadata": {},
   "outputs": [
    {
     "data": {
      "text/plain": [
       "321"
      ]
     },
     "execution_count": 124,
     "metadata": {},
     "output_type": "execute_result"
    }
   ],
   "source": [
    "check_count = 0\n",
    "for x, y in data.iterrows():\n",
    "    policy_range = [int(i) for i in data.policy.str.split('-')[x]]\n",
    "    code = data.code.str.slice(stop=1)[x]\n",
    "    if ((data.password[x][policy_range[0]-1] == code) & (data.password[x][policy_range[1]-1] != code))|((data.password[x][policy_range[0]-1] != code) & (data.password[x][policy_range[1]-1] == code)):\n",
    "        check_count +=1\n",
    "        \n",
    "check_count"
   ]
  }
 ],
 "metadata": {
  "kernelspec": {
   "display_name": "Python 3",
   "language": "python",
   "name": "python3"
  },
  "language_info": {
   "codemirror_mode": {
    "name": "ipython",
    "version": 3
   },
   "file_extension": ".py",
   "mimetype": "text/x-python",
   "name": "python",
   "nbconvert_exporter": "python",
   "pygments_lexer": "ipython3",
   "version": "3.8.5"
  }
 },
 "nbformat": 4,
 "nbformat_minor": 4
}
